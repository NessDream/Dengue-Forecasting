{
 "cells": [
  {
   "cell_type": "markdown",
   "metadata": {},
   "source": [
    "## Part 1.A - Hands-on \n",
    "\n",
    "### Variables and types\n",
    "\n",
    "#### Creating a new variable with python\n",
    "\n",
    "Similar to Matlab \n",
    "\n",
    "``` VARNAME =  VALUE ```\n",
    "\n"
   ]
  },
  {
   "cell_type": "code",
   "execution_count": 1,
   "metadata": {
    "ExecuteTime": {
     "end_time": "2018-10-31T14:05:15.243000Z",
     "start_time": "2018-10-31T14:05:15.233000Z"
    },
    "collapsed": true
   },
   "outputs": [],
   "source": [
    "a = 'hello'"
   ]
  },
  {
   "cell_type": "markdown",
   "metadata": {},
   "source": [
    "Printing is similar to Matlab 'disp' command and maybe more intuitive than SAS\n",
    "\n",
    "(SAS)\n",
    "```SAS\n",
    "proc print;\n",
    "run;\n",
    "```"
   ]
  },
  {
   "cell_type": "code",
   "execution_count": 2,
   "metadata": {
    "ExecuteTime": {
     "end_time": "2018-10-31T14:05:18.362000Z",
     "start_time": "2018-10-31T14:05:18.349000Z"
    }
   },
   "outputs": [
    {
     "name": "stdout",
     "output_type": "stream",
     "text": [
      "hello\n"
     ]
    }
   ],
   "source": [
    "#show a value\n",
    "print(a)"
   ]
  },
  {
   "cell_type": "markdown",
   "metadata": {},
   "source": [
    "#### Dynamic type\n",
    "Python and Matlab are interpreted languages with strong dynamic type. What does it mean?\n",
    "Let's have a look with examples"
   ]
  },
  {
   "cell_type": "code",
   "execution_count": 3,
   "metadata": {
    "ExecuteTime": {
     "end_time": "2018-10-31T14:09:54.298000Z",
     "start_time": "2018-10-31T14:09:54.292000Z"
    }
   },
   "outputs": [
    {
     "name": "stdout",
     "output_type": "stream",
     "text": [
      "1\n"
     ]
    }
   ],
   "source": [
    "#defining a variable a \n",
    "a = 1\n",
    "#showing evaluation of a\n",
    "print(a)"
   ]
  },
  {
   "cell_type": "markdown",
   "metadata": {},
   "source": [
    "Types are dynamics in python (like in Matlab) whereas in SAS where it is stuck to structured data manipulation so if you cannot allocate a value to a variable if format is different. \n",
    "\n",
    "In python, format change dynamically according to the last value affected to the variable"
   ]
  },
  {
   "cell_type": "code",
   "execution_count": null,
   "metadata": {
    "ExecuteTime": {
     "end_time": "2018-04-26T15:34:34.430000Z",
     "start_time": "2018-04-26T15:34:34.422000Z"
    },
    "collapsed": true
   },
   "outputs": [],
   "source": [
    "a = 1\n",
    "print(type(a))\n",
    "\n",
    "a = 1.0 \n",
    "print(type(a))"
   ]
  },
  {
   "cell_type": "markdown",
   "metadata": {},
   "source": [
    "#### The variable type in python\n",
    "\n",
    "Python does not make difference between decimal, float or double whereas in SAS or Matlab. \n",
    "Numeric values are either `float` or `int`. \n",
    "\n",
    "When specific numbers or type are necessary, you usually have to use a library or explicitly call it. For instance to manipulate complex numbers, `cmath` library has to be used and explicitly defined with the `complex` function."
   ]
  },
  {
   "cell_type": "code",
   "execution_count": 4,
   "metadata": {
    "ExecuteTime": {
     "end_time": "2018-10-31T14:14:16.695000Z",
     "start_time": "2018-10-31T14:14:16.685000Z"
    }
   },
   "outputs": [
    {
     "name": "stdout",
     "output_type": "stream",
     "text": [
      "<type 'float'>\n",
      "<type 'float'>\n",
      "<type 'int'>\n",
      "<type 'complex'>\n"
     ]
    }
   ],
   "source": [
    "#illustration\n",
    "import math #import of a library to call Pi value.\n",
    "print(type(3.14)) #double or decimal expected in other language\n",
    "print(type(math.pi)) #float \n",
    "print(type(1))\n",
    "print(type(complex(1,2)))"
   ]
  },
  {
   "cell_type": "markdown",
   "metadata": {},
   "source": [
    "The difference between interger and floating values is quite important in python (especially in 2.X version). For instance, when you operate a division of two numbers, if both of them or integers, it will compute euclidian division. "
   ]
  },
  {
   "cell_type": "code",
   "execution_count": 6,
   "metadata": {
    "ExecuteTime": {
     "end_time": "2018-10-31T14:15:26.290000Z",
     "start_time": "2018-10-31T14:15:26.282000Z"
    }
   },
   "outputs": [
    {
     "name": "stdout",
     "output_type": "stream",
     "text": [
      "0\n"
     ]
    }
   ],
   "source": [
    "#euclidian division \n",
    "a = 1\n",
    "b = 10\n",
    "print(a/b)"
   ]
  },
  {
   "cell_type": "markdown",
   "metadata": {},
   "source": [
    "In the former operation 0.1 was expected. As mentioned previously, python (2.X) computes euclidian division when numerator AND denominator are integer.\n",
    "To get the expected division, several tricks can be used to get the proper results.\n",
    "\n",
    "Note that in python 3.X versions you don't need to care about that anymore. Float division is always computed by default."
   ]
  },
  {
   "cell_type": "code",
   "execution_count": 7,
   "metadata": {
    "ExecuteTime": {
     "end_time": "2018-10-31T14:16:10.221000Z",
     "start_time": "2018-10-31T14:16:10.213000Z"
    }
   },
   "outputs": [
    {
     "name": "stdout",
     "output_type": "stream",
     "text": [
      "0.1\n",
      "0.1\n"
     ]
    }
   ],
   "source": [
    "# real division\n",
    "a = 1\n",
    "b = 10\n",
    "print((a+0.0)/b)\n",
    "print(float(a)/b)"
   ]
  },
  {
   "cell_type": "markdown",
   "metadata": {},
   "source": [
    "More generally speaking, Python does have few elementary types you can use without loading a specific library: \n",
    "\n",
    "* integer: `a = 1` \n",
    "* float: `a = 1.0`\n",
    "* string: `a=\"hello\"`\n",
    "* list: `a = [ 1, 2, 3]`\n",
    "* tuple: `a = ( 0, 1, 2)`\n",
    "* dictionary: `a={ 'k1':1, 'k2':2 }`\n",
    "\n",
    "In python, every element is an object. That means that you can easily find functions (methods) you can apply on them by following the syntax and using auto completion. In other words, when you have an object, you can for instance start by writing the object name followed by '.' then press TAB. You should see a list a methods poping."
   ]
  },
  {
   "cell_type": "code",
   "execution_count": null,
   "metadata": {
    "ExecuteTime": {
     "end_time": "2018-04-30T11:56:58.886000Z",
     "start_time": "2018-04-30T11:56:58.881000Z"
    },
    "collapsed": true
   },
   "outputs": [],
   "source": [
    "#let's try it\n",
    "a = 1.0\n",
    "#a."
   ]
  },
  {
   "cell_type": "markdown",
   "metadata": {},
   "source": [
    "###  Dictonary, tuples and list\n",
    "\n",
    "Whereas in Matlab, python is not a matricial language by default. We will see later how to manipulate matrix in python. However, python has different objects to store information. At the first glance they look pretty similar. Let see how to use them\n",
    "\n",
    "#### List\n",
    "\n",
    "This is similar to an array. Each element is stored in the order and can be called by their index.\n",
    "\n",
    "Be careful: in python indexes start at 0."
   ]
  },
  {
   "cell_type": "code",
   "execution_count": null,
   "metadata": {
    "ExecuteTime": {
     "end_time": "2018-04-30T10:00:50.043000Z",
     "start_time": "2018-04-30T10:00:50.036000Z"
    },
    "collapsed": true
   },
   "outputs": [],
   "source": [
    "a = [ 1, 2, 3 ]\n",
    "print(a[1])"
   ]
  },
  {
   "cell_type": "code",
   "execution_count": null,
   "metadata": {
    "ExecuteTime": {
     "end_time": "2018-04-30T10:00:50.451000Z",
     "start_time": "2018-04-30T10:00:50.444000Z"
    },
    "collapsed": true
   },
   "outputs": [],
   "source": [
    "#once defined you can change a value by calling the index\n",
    "a[1] = 25\n",
    "print(a)"
   ]
  },
  {
   "cell_type": "markdown",
   "metadata": {},
   "source": [
    "List can contain any type of element. As far as, it is convenient to call them by their index you can mix different type inside a list"
   ]
  },
  {
   "cell_type": "code",
   "execution_count": null,
   "metadata": {
    "ExecuteTime": {
     "end_time": "2018-04-30T09:24:21.264000Z",
     "start_time": "2018-04-30T09:24:21.248000Z"
    },
    "collapsed": true
   },
   "outputs": [],
   "source": [
    "a = [ 1, \"hello\", [2,3] ] \n",
    "a[2]"
   ]
  },
  {
   "cell_type": "markdown",
   "metadata": {},
   "source": [
    "Different operators exist for a list object. Here are the most useful"
   ]
  },
  {
   "cell_type": "code",
   "execution_count": 9,
   "metadata": {
    "ExecuteTime": {
     "end_time": "2018-10-31T14:21:28.729000Z",
     "start_time": "2018-10-31T14:21:28.724000Z"
    },
    "collapsed": true
   },
   "outputs": [],
   "source": [
    "a = [] #empty list"
   ]
  },
  {
   "cell_type": "code",
   "execution_count": 12,
   "metadata": {
    "ExecuteTime": {
     "end_time": "2018-10-31T14:23:49.426000Z",
     "start_time": "2018-10-31T14:23:49.420000Z"
    }
   },
   "outputs": [
    {
     "name": "stdout",
     "output_type": "stream",
     "text": [
      "[1, 1]\n"
     ]
    }
   ],
   "source": [
    "#adding a new element to a list. The element is add at the end by default.\n",
    "a.append(1)\n",
    "print(a)"
   ]
  },
  {
   "cell_type": "code",
   "execution_count": 13,
   "metadata": {
    "ExecuteTime": {
     "end_time": "2018-10-31T14:23:54.384000Z",
     "start_time": "2018-10-31T14:23:54.370000Z"
    }
   },
   "outputs": [
    {
     "data": {
      "text/plain": [
       "1"
      ]
     },
     "execution_count": 13,
     "metadata": {},
     "output_type": "execute_result"
    }
   ],
   "source": [
    "a[0]"
   ]
  },
  {
   "cell_type": "code",
   "execution_count": null,
   "metadata": {
    "ExecuteTime": {
     "end_time": "2018-04-30T09:35:46.525000Z",
     "start_time": "2018-04-30T09:35:46.517000Z"
    },
    "collapsed": true
   },
   "outputs": [],
   "source": [
    "#get the length of an element\n",
    "len(a)"
   ]
  },
  {
   "cell_type": "code",
   "execution_count": null,
   "metadata": {
    "ExecuteTime": {
     "end_time": "2018-04-30T09:37:58.302000Z",
     "start_time": "2018-04-30T09:37:58.295000Z"
    },
    "collapsed": true
   },
   "outputs": [],
   "source": [
    "#removing one element with a specific value (if several exists, removing the first found).\n",
    "#Note that removing an element imply a potential change of indexes\n",
    "a = [ 1, 2, 1 ]\n",
    "a.remove(1)\n",
    "print(a)"
   ]
  },
  {
   "cell_type": "code",
   "execution_count": null,
   "metadata": {
    "ExecuteTime": {
     "end_time": "2018-04-30T10:02:41.805000Z",
     "start_time": "2018-04-30T10:02:41.795000Z"
    },
    "collapsed": true
   },
   "outputs": [],
   "source": [
    "#sorting a list , reverse = True means descending \n",
    "a = [5,2,8,3,6,1,4,7]\n",
    "sorted(a,reverse=True)"
   ]
  },
  {
   "cell_type": "code",
   "execution_count": 20,
   "metadata": {
    "ExecuteTime": {
     "end_time": "2018-10-31T14:30:19.110000Z",
     "start_time": "2018-10-31T14:30:19.100000Z"
    }
   },
   "outputs": [
    {
     "data": {
      "text/plain": [
       "[5, 6, 7, 8, 9, 10]"
      ]
     },
     "execution_count": 20,
     "metadata": {},
     "output_type": "execute_result"
    }
   ],
   "source": [
    "#example to define a sequence of numbers from 1 to 10 with a list\n",
    "list(range(5,11))"
   ]
  },
  {
   "cell_type": "code",
   "execution_count": 19,
   "metadata": {
    "ExecuteTime": {
     "end_time": "2018-10-31T14:29:11.680000Z",
     "start_time": "2018-10-31T14:29:11.669000Z"
    }
   },
   "outputs": [
    {
     "data": {
      "text/plain": [
       "[0, 1, 2, 3, 4, 5, 6, 7, 8, 9, 10]"
      ]
     },
     "execution_count": 19,
     "metadata": {},
     "output_type": "execute_result"
    }
   ],
   "source": [
    "list(range(11))"
   ]
  },
  {
   "cell_type": "code",
   "execution_count": null,
   "metadata": {
    "ExecuteTime": {
     "end_time": "2018-04-30T12:43:05.485000Z",
     "start_time": "2018-04-30T12:43:05.476000Z"
    },
    "collapsed": true
   },
   "outputs": [],
   "source": [
    "#concatenate two lists\n",
    "[1,2] + [3,4]"
   ]
  },
  {
   "cell_type": "markdown",
   "metadata": {},
   "source": [
    "**Be careful**\n",
    "\n",
    "The addition symbol with list does not sum term by term elements since by default list could have different length."
   ]
  },
  {
   "cell_type": "markdown",
   "metadata": {},
   "source": [
    "#### Tuple\n",
    "\n",
    "This object is quite similar to a list at the exeption that once defined a tuple cannot be modified. It is useful to protect information inside a code and ensure that indexes won't change"
   ]
  },
  {
   "cell_type": "code",
   "execution_count": 14,
   "metadata": {
    "ExecuteTime": {
     "end_time": "2018-10-31T14:27:07.444000Z",
     "start_time": "2018-10-31T14:27:07.438000Z"
    },
    "collapsed": true
   },
   "outputs": [],
   "source": [
    "t = ( 1, \"toto\", [1,2])"
   ]
  },
  {
   "cell_type": "code",
   "execution_count": 15,
   "metadata": {
    "ExecuteTime": {
     "end_time": "2018-10-31T14:27:07.961000Z",
     "start_time": "2018-10-31T14:27:07.952000Z"
    }
   },
   "outputs": [
    {
     "data": {
      "text/plain": [
       "1"
      ]
     },
     "execution_count": 15,
     "metadata": {},
     "output_type": "execute_result"
    }
   ],
   "source": [
    "t[0]"
   ]
  },
  {
   "cell_type": "code",
   "execution_count": 16,
   "metadata": {
    "ExecuteTime": {
     "end_time": "2018-10-31T14:27:08.446000Z",
     "start_time": "2018-10-31T14:27:08.431000Z"
    }
   },
   "outputs": [
    {
     "ename": "TypeError",
     "evalue": "'tuple' object does not support item assignment",
     "output_type": "error",
     "traceback": [
      "\u001b[1;31m---------------------------------------------------------------------------\u001b[0m",
      "\u001b[1;31mTypeError\u001b[0m                                 Traceback (most recent call last)",
      "\u001b[1;32m<ipython-input-16-212b3749c6c1>\u001b[0m in \u001b[0;36m<module>\u001b[1;34m()\u001b[0m\n\u001b[0;32m      1\u001b[0m \u001b[1;31m#You cannot modify an element\u001b[0m\u001b[1;33m\u001b[0m\u001b[1;33m\u001b[0m\u001b[0m\n\u001b[1;32m----> 2\u001b[1;33m \u001b[0mt\u001b[0m\u001b[1;33m[\u001b[0m\u001b[1;36m1\u001b[0m\u001b[1;33m]\u001b[0m \u001b[1;33m=\u001b[0m \u001b[1;36m2\u001b[0m\u001b[1;33m\u001b[0m\u001b[0m\n\u001b[0m",
      "\u001b[1;31mTypeError\u001b[0m: 'tuple' object does not support item assignment"
     ]
    }
   ],
   "source": [
    "#You cannot modify an element\n",
    "t[1] = 2"
   ]
  },
  {
   "cell_type": "markdown",
   "metadata": {},
   "source": [
    "#### Dictionary\n",
    "\n",
    "Dictionary is a very common object in python. Technically this is a Hashmap array. For each key, it can match a value. Whereas with list and tuple object, indexes are not ordered and could be a string or a numeric value.\n",
    "\n",
    "In Matlab this is similar to containers object.\n",
    "\n",
    "```Matlab \n",
    "c = containers.Map\n",
    "c('foo') = 1\n",
    "c(' not a var name ') = 2\n",
    "```\n",
    "\n",
    "This type of object is really convenient to store unstructured data. It is similar to a JSON file.\n",
    "In other words, each time you face a data that cannot really be put into a data table (SAS table), this type of storage should work since it is very flexible. "
   ]
  },
  {
   "cell_type": "code",
   "execution_count": 21,
   "metadata": {
    "ExecuteTime": {
     "end_time": "2018-10-31T14:34:55.739000Z",
     "start_time": "2018-10-31T14:34:55.730000Z"
    }
   },
   "outputs": [
    {
     "data": {
      "text/plain": [
       "123"
      ]
     },
     "execution_count": 21,
     "metadata": {},
     "output_type": "execute_result"
    }
   ],
   "source": [
    "mydict = { \"key1\": 123, 5: [\"a\",\"b\",\"c\"]}\n",
    "mydict[\"key1\"]"
   ]
  },
  {
   "cell_type": "code",
   "execution_count": 22,
   "metadata": {
    "ExecuteTime": {
     "end_time": "2018-10-31T14:35:27.608000Z",
     "start_time": "2018-10-31T14:35:27.603000Z"
    },
    "collapsed": true
   },
   "outputs": [],
   "source": [
    "mydict[\"A\"] = 5"
   ]
  },
  {
   "cell_type": "code",
   "execution_count": 23,
   "metadata": {
    "ExecuteTime": {
     "end_time": "2018-10-31T14:35:41.375000Z",
     "start_time": "2018-10-31T14:35:41.367000Z"
    }
   },
   "outputs": [
    {
     "data": {
      "text/plain": [
       "{5: ['a', 'b', 'c'], 'A': 5, 'key1': 123}"
      ]
     },
     "execution_count": 23,
     "metadata": {},
     "output_type": "execute_result"
    }
   ],
   "source": [
    "mydict"
   ]
  },
  {
   "cell_type": "code",
   "execution_count": null,
   "metadata": {
    "ExecuteTime": {
     "end_time": "2018-04-30T11:50:50.033000Z",
     "start_time": "2018-04-30T11:50:50.024000Z"
    },
    "collapsed": true
   },
   "outputs": [],
   "source": [
    "mydict[5]"
   ]
  },
  {
   "cell_type": "code",
   "execution_count": null,
   "metadata": {
    "ExecuteTime": {
     "end_time": "2018-04-30T11:52:45.591000Z",
     "start_time": "2018-04-30T11:52:45.584000Z"
    },
    "collapsed": true
   },
   "outputs": [],
   "source": [
    "# as far as your dict is already instanciated you can add new element easily. \n",
    "# if a key does not exist the object create a new mapping\n",
    "mydict[\"newkey\"] = \"a new element\""
   ]
  },
  {
   "cell_type": "code",
   "execution_count": null,
   "metadata": {
    "ExecuteTime": {
     "end_time": "2018-04-30T11:52:49.582000Z",
     "start_time": "2018-04-30T11:52:49.571000Z"
    },
    "collapsed": true
   },
   "outputs": [],
   "source": [
    "mydict"
   ]
  },
  {
   "cell_type": "code",
   "execution_count": null,
   "metadata": {
    "ExecuteTime": {
     "end_time": "2018-04-30T11:54:34.558000Z",
     "start_time": "2018-04-30T11:54:34.548000Z"
    },
    "collapsed": true
   },
   "outputs": [],
   "source": [
    "#get the keys of my object\n",
    "mydict.keys()"
   ]
  },
  {
   "cell_type": "code",
   "execution_count": null,
   "metadata": {
    "ExecuteTime": {
     "end_time": "2018-04-30T11:54:51.621000Z",
     "start_time": "2018-04-30T11:54:51.610000Z"
    },
    "collapsed": true
   },
   "outputs": [],
   "source": [
    "#get values of my object\n",
    "mydict.values()"
   ]
  },
  {
   "cell_type": "markdown",
   "metadata": {},
   "source": [
    "Notice that when you call methods of a dictionary, elements are output in a \"random\" order.  "
   ]
  },
  {
   "cell_type": "markdown",
   "metadata": {},
   "source": [
    "### Functions and loops\n",
    "\n",
    "The python syntax is quite simple. \n",
    "\n",
    "* There are no brackets, no semi-columns needed. \n",
    "* Indentation plays the role of bracket to delimit a logic instruction (loop, if, function). \n",
    "* A new logical instruction always end by a column \":\".\n",
    "* Once the level of the indentation changes, that means you start (or end) a new instruction. \n",
    "\n",
    "#### Loops\n",
    "\n",
    "The python syntax is the following\n",
    "\n",
    "```python\n",
    "\n",
    "for i in iterators:\n",
    "    #YOUR OPERATION\n",
    "```\n",
    "\n",
    "As comparison, it would have been :\n",
    "\n",
    "(Matlab)\n",
    "\n",
    "``` \n",
    "for v = iterators\n",
    "    #YOUR OPERATION\n",
    "end\n",
    "```\n",
    "\n",
    "\n",
    "(SAS)\n",
    "```SAS\n",
    "data [dataName];\n",
    "do i = [start_] to [stop_];\n",
    "   #YOUR OPERATION\n",
    "   output;\n",
    "end;\n",
    "run;\n",
    "```\n",
    "Be careful about the indentation. After the \":\" sign, indentation is expected and every instruction at the same indentation level will be executed in the loop. Once the loop is finished, the following lines (non indented) are executed.\n",
    "\n",
    "Iterators can be a list/matrix, a tuple or a set. "
   ]
  },
  {
   "cell_type": "code",
   "execution_count": null,
   "metadata": {
    "ExecuteTime": {
     "end_time": "2018-04-30T12:39:44.989000Z",
     "start_time": "2018-04-30T12:39:44.979000Z"
    },
    "collapsed": true
   },
   "outputs": [],
   "source": [
    "#example\n",
    "for i in range(10):\n",
    "    print(i)"
   ]
  },
  {
   "cell_type": "code",
   "execution_count": null,
   "metadata": {
    "ExecuteTime": {
     "end_time": "2018-04-30T12:41:09.165000Z",
     "start_time": "2018-04-30T12:41:09.158000Z"
    },
    "collapsed": true
   },
   "outputs": [],
   "source": [
    "for i in [5,6,111]:\n",
    "    print(min(i,50))"
   ]
  },
  {
   "cell_type": "code",
   "execution_count": null,
   "metadata": {
    "ExecuteTime": {
     "end_time": "2018-04-30T12:41:29.414000Z",
     "start_time": "2018-04-30T12:41:29.406000Z"
    },
    "collapsed": true
   },
   "outputs": [],
   "source": [
    "#outside the loop, the iterator stay at it last value.\n",
    "for i in [5,6,111]:\n",
    "    print(min(i,50))\n",
    "print(i)"
   ]
  },
  {
   "cell_type": "markdown",
   "metadata": {},
   "source": [
    "#### Functions\n",
    "Syntax is pretty intuitive and follow the same spirit  as Matlab but with different order of arguments.\n",
    "In SAS equivalent would be %macro but it seems harder to define non data based functions with SAS\n",
    "\n",
    "Example: let's implement the following Matlab code in python\n",
    "\n",
    "(Matlab)\n",
    "```Matlab \n",
    "\n",
    "function [m,s] = stat(x)\n",
    "n = length(x);\n",
    "m = sum(x)/n;\n",
    "s = sum((x-m).^2/n);\n",
    "end\n",
    "\n",
    "```\n",
    "\n",
    "\n",
    "(SAS)\n",
    "```SAS \n",
    "\n",
    "%macro stat(x,dataName);\n",
    "    proc sql noprint;\n",
    "    select mean(&x) format 6.2 into: m\n",
    "    from &dataName;\n",
    "\n",
    "    select mean((&x-mean(&x))*(&x-mean(&x))) format 6.2 into: s\n",
    "    from &dataName;\n",
    "    quit;\n",
    "%mend stat;\n",
    "```\n"
   ]
  },
  {
   "cell_type": "code",
   "execution_count": null,
   "metadata": {
    "ExecuteTime": {
     "end_time": "2018-04-30T12:09:27.994000Z",
     "start_time": "2018-04-30T12:09:27.975000Z"
    },
    "collapsed": true
   },
   "outputs": [],
   "source": [
    "def stat(x):\n",
    "    n = len(x)\n",
    "    m = float(sum(x)) / n #to avoid to compute euclidian division\n",
    "    s = sum((x-m)**2*1.0/n)\n",
    "    return(m,s)\n",
    "\n",
    "stat([1,2])"
   ]
  },
  {
   "cell_type": "markdown",
   "metadata": {},
   "source": [
    "Python is not matricial by default. That means it doesn't understand the operation of addition as matricial by default. We need to specify we are using matrix to do so. Let just admit the following correct code. We will explain how to manipulate matrix in the next part. "
   ]
  },
  {
   "cell_type": "code",
   "execution_count": null,
   "metadata": {
    "ExecuteTime": {
     "end_time": "2018-04-30T12:12:30.246000Z",
     "start_time": "2018-04-30T12:12:30.231000Z"
    },
    "collapsed": true
   },
   "outputs": [],
   "source": [
    "import numpy as np\n",
    "def stat(x):\n",
    "    x = np.array(x)\n",
    "    n = len(x)\n",
    "    m = float(sum(x)) / n #to avoid to compute euclidian division\n",
    "    s = sum((x-m)**2*1.0/n)\n",
    "    return(m,s)\n",
    "stat([1,2])"
   ]
  },
  {
   "cell_type": "markdown",
   "metadata": {},
   "source": [
    "To summarize, to define a function. \n",
    "\n",
    "1. It starts by the key word \"def\" \n",
    "2. followed by the function name \n",
    "3. Then inputs in parantesis\n",
    "4. end by \"return( outputname)\"\n",
    "\n",
    "Here is the template\n",
    "\n",
    "```python\n",
    "\n",
    "def function_name(arg1, arg2):\n",
    "    #YOUR OPERATION\n",
    "    output = ...\n",
    "    return(output)\n",
    "```\n",
    "\n",
    "** Exercise 1 **\n",
    "\n",
    "Define a function that take a list as an argument an return the concatenate of each element as a string. Example: \n",
    "\n",
    "INPUT : [\"a\",1,\"b\"]\n",
    "\n",
    "(expected) OUTPUT : \"a1b\"\n"
   ]
  },
  {
   "cell_type": "code",
   "execution_count": null,
   "metadata": {
    "ExecuteTime": {
     "end_time": "2018-04-30T13:05:50.799000Z",
     "start_time": "2018-04-30T13:05:50.788000Z"
    },
    "collapsed": true
   },
   "outputs": [],
   "source": [
    "def concat(x):\n",
    "    #COMPLETE HERE\n",
    "    return(output)"
   ]
  },
  {
   "cell_type": "markdown",
   "metadata": {},
   "source": [
    "#### If/Else condition\n",
    "\n",
    "The syntax follows same rules and is quite intuitive. Compare it to SAS and Matlab Syntax\n",
    "\n",
    "(python)\n",
    "```python\n",
    "\n",
    "if CONDITION1 and CONDITION2:\n",
    "    #YOUR OPERATION\n",
    "elif CONDITION3: #can be skipped\n",
    "    #YOUR OPERATION\n",
    "else:\n",
    "    #YOUR OPERATION\n",
    "```\n",
    "\n",
    "(Matlab)\n",
    "```Matlab\n",
    "if (CONDITION1) && (CONDITION2)\n",
    "    #YOUR OPERATION;\n",
    "elseif CONDITION3 \n",
    "    #YOUR OPERATION;\n",
    "else\n",
    "    #YOUR OPERATION;\n",
    "end\n",
    "```\n",
    "\n",
    "(SAS)\n",
    "```SAS\n",
    "if CONDITION1 and CONDITION2 then\n",
    "   do;\n",
    "      #YOUR OPERATION;\n",
    "   end;\n",
    "else if CONDITION3 then\n",
    "   do;\n",
    "       #YOUR OPERATION;\n",
    "   end;\n",
    "else\n",
    "   do;\n",
    "       #YOUR OPERATION;\n",
    "   end;\n",
    "```"
   ]
  },
  {
   "cell_type": "code",
   "execution_count": null,
   "metadata": {
    "ExecuteTime": {
     "end_time": "2018-04-30T13:15:14.977000Z",
     "start_time": "2018-04-30T13:15:14.970000Z"
    },
    "collapsed": true
   },
   "outputs": [],
   "source": [
    "#Example test if a number is odd or even\n",
    "x = 11\n",
    "if x % 2 == 0:\n",
    "    print(\"even\")\n",
    "else:\n",
    "    print(\"odd\")"
   ]
  },
  {
   "cell_type": "markdown",
   "metadata": {},
   "source": [
    "**Exercise 2** \n",
    "\n",
    "Define a function that take in input two list and return a dictionary object:\n",
    "* The first list argument contains the keys of the dictionary\n",
    "* The second list contains the values of the dictionary\n",
    "* if the two arguments have different length then return the message \"ERROR\"\n",
    "\n",
    "example build_dict([\"a\",\"b\"], [1,2]) should return  {'a': 1, 'b': 2}"
   ]
  },
  {
   "cell_type": "code",
   "execution_count": null,
   "metadata": {
    "collapsed": true
   },
   "outputs": [],
   "source": []
  },
  {
   "cell_type": "markdown",
   "metadata": {},
   "source": [
    "#### Objects in programing\n",
    "\n",
    "Python is an object oriented programming language (as well as Matlab but easier to use).\n",
    "Object is an important concept in progamming. They allow modular implementation and make maintenance and development easier than without. \n",
    "\n",
    "What is an object? As the name means, the initial idea of object programming is to represent physical objects. Every physical object can be described by their properties (attributes) and can interact with the outside (methods).\n",
    "\n",
    "Thus a programming object can be picture as an atomic unit. \n",
    " \n",
    "\n",
    "* its name (type).\n",
    "* its attributes (properties)\n",
    "* its methods (function you can apply on it)\n",
    "\n",
    "So far we manipulated objects without really be awared of it. For instance when we defined a list.\n",
    "\n",
    "```python\n",
    "mylist = [1,2,3]\n",
    "``` \n",
    "\n",
    "* mylist is the name of the object\n",
    "* attributes are the values of item inside the list\n",
    "* methods are all the function you can call on a list\n",
    "\n",
    "example \n",
    "\n",
    "```python\n",
    "mylist.append(4)\n",
    "``` \n",
    "\n",
    "We will then be able to define our own objects with python. Many libraries are object oriented. Thus controlling objects in python is quite important.  Let look as the following example. Imagine we want to implement an Employee as an object.\n",
    "\n",
    "An Employee can be described by his/her name and different properties. For example:\n",
    "\n",
    "* Name\n",
    "* Age\n",
    "* Time he/she has spent in the company\n",
    "* Helpfulness (notation between 1 and 10)\n",
    "\n",
    "An Employee has also some skills like being able to compute cross-product or adding two numbers. Imagine also they have a special skill to return the square of the sum of their Age and Time they have spent in the company. The methods can be then listed as:\n",
    "\n",
    "* cross_product\n",
    "* addition\n",
    "* special_skill\n",
    "\n",
    "In python, the syntax to define an object is \n",
    "\n",
    "```python\n",
    "class object_name():\n",
    "    def __init__(self,attribute1,attribute2): #constructor : present in every object\n",
    "        self.v1 = attribute1\n",
    "        self.v2 = attribute2\n",
    "        \n",
    "    def methods1(self,x1,x2):\n",
    "        result = self.v1 + x1*x2\n",
    "        return(result)\n",
    "``` \n",
    "\n",
    "Once defined, below is an example of how to declare a new object and use it.\n",
    "\n",
    "```python\n",
    "#construction\n",
    "myobj = object_name(attribute1,attribute2) #attributes required in the __init__ function. Note that self is not require since it is the object itself\n",
    "\n",
    "#call a method\n",
    "myobj.methods1(x1,x2) #call of methods1 associated to the object\n",
    "\n",
    "\n",
    "#access to attributes\n",
    "myobj.v1\n",
    "myobj.v2\n",
    "\n",
    "#change attribute v1\n",
    "myobj.v1 = #newvalue\n",
    "\n",
    "\n",
    "``` \n",
    "\n",
    "\n",
    "1. Every object definition starts by key word \"class\" followed by the object name.\n",
    "2. Every object has a constructor called __init__ method (convention).\n",
    "3. Within the class, `self` is used to call the object itself\n",
    "4. Arguments (except self) of __init__ method are optional\n",
    "5. All defined methods can be called by the object only. That means you cannot call the function you defined in the object without using the object. That avoids conflict between function names since if we use correctly objects we always know from which initial object the function comes.\n",
    "\n",
    "\n",
    "** Exercise 3** \n",
    "\n",
    "1. Implement the Employee object . \n",
    "2. Declare Christophe as a new Employee of age 30, seniority 25, helpfulness 8\n",
    "3. Test your object"
   ]
  },
  {
   "cell_type": "code",
   "execution_count": null,
   "metadata": {
    "ExecuteTime": {
     "end_time": "2018-04-30T14:46:57.274000Z",
     "start_time": "2018-04-30T14:46:57.269000Z"
    },
    "collapsed": true
   },
   "outputs": [],
   "source": [
    "#beginning together"
   ]
  },
  {
   "cell_type": "markdown",
   "metadata": {},
   "source": [
    "**Exercise 4** \n",
    "\n",
    "The Employee  get now a promotion. He can now keep in mind any operation he did. \n",
    "By adding an attribute \"memory\", use the dictionary object to record each operation called by the object. For instance, when the method cross_product is called a new element {\"cross_product\": result} is added into the \"memory\" attribute."
   ]
  },
  {
   "cell_type": "code",
   "execution_count": null,
   "metadata": {
    "collapsed": true
   },
   "outputs": [],
   "source": []
  }
 ],
 "metadata": {
  "anaconda-cloud": {},
  "hide_input": false,
  "kernelspec": {
   "display_name": "Python [conda env:SI] *",
   "language": "python",
   "name": "conda-env-SI-py"
  },
  "language_info": {
   "codemirror_mode": {
    "name": "ipython",
    "version": 3
   },
   "file_extension": ".py",
   "mimetype": "text/x-python",
   "name": "python",
   "nbconvert_exporter": "python",
   "pygments_lexer": "ipython3",
   "version": "3.6.8"
  },
  "toc": {
   "nav_menu": {},
   "number_sections": true,
   "sideBar": true,
   "skip_h1_title": false,
   "toc_cell": false,
   "toc_position": {},
   "toc_section_display": "block",
   "toc_window_display": false
  }
 },
 "nbformat": 4,
 "nbformat_minor": 2
}
